{
 "cells": [
  {
   "cell_type": "code",
   "execution_count": 1,
   "metadata": {},
   "outputs": [],
   "source": [
    "from q1_softmax import softmax, test_softmax_basic, test_softmax\n",
    "from q2_sigmoid import sigmoid, sigmoid_grad, test_sigmoid_basic, test_sigmoid\n",
    "import q2_gradcheck\n",
    "import q2_neural \n",
    "from q3_word2vec import test_normalize_rows, test_word2vec\n",
    "\n",
    "%load_ext autoreload\n",
    "%autoreload 2"
   ]
  },
  {
   "cell_type": "code",
   "execution_count": 2,
   "metadata": {},
   "outputs": [
    {
     "name": "stdout",
     "output_type": "stream",
     "text": [
      "Running basic tests...\n",
      "[0.26894142 0.73105858]\n",
      "[[0.26894142 0.73105858]\n",
      " [0.26894142 0.73105858]]\n",
      "[[0.73105858 0.26894142]]\n",
      "You should be able to verify these results by hand!\n",
      "\n",
      "Running your tests...\n",
      "[5.62554730e-04 1.52918230e-03 1.52918230e-03 1.12992138e-02\n",
      " 3.07144476e-02 8.34905247e-02 2.26950776e-01 6.16916170e-01\n",
      " 2.52772134e-04 1.12992138e-02 4.15674846e-03 1.12992138e-02]\n",
      "[[2.68941421e-01 7.31058579e-01]\n",
      " [5.64636292e-01 4.35363708e-01]\n",
      " [7.31058579e-01 2.68941421e-01]\n",
      " [4.71116580e-58 1.00000000e+00]\n",
      " [0.00000000e+00 1.00000000e+00]\n",
      " [7.58256042e-10 9.99999999e-01]\n",
      " [9.99999998e-01 2.06115362e-09]\n",
      " [4.53978687e-05 9.99954602e-01]]\n",
      "[[7.31058579e-01 2.68941421e-01 1.00048252e-44 3.68056951e-45]]\n"
     ]
    }
   ],
   "source": [
    "# q1 Test Softmax\n",
    "test_softmax_basic()\n",
    "test_softmax()"
   ]
  },
  {
   "cell_type": "code",
   "execution_count": 3,
   "metadata": {},
   "outputs": [
    {
     "name": "stdout",
     "output_type": "stream",
     "text": [
      "Running basic tests...\n",
      "[[0.73105858 0.88079708]\n",
      " [0.26894142 0.11920292]]\n",
      "[[0.19661193 0.10499359]\n",
      " [0.19661193 0.10499359]]\n",
      "You should verify these results by hand!\n",
      "\n",
      "Running your tests...\n",
      "[[0.73105858 0.88079708]\n",
      " [0.26894142 0.11920292]\n",
      " [0.73105858 0.88079708]\n",
      " [0.26894142 0.11920292]]\n",
      "[[0.19661193 0.10499359]\n",
      " [0.19661193 0.10499359]\n",
      " [0.19661193 0.10499359]\n",
      " [0.19661193 0.10499359]]\n"
     ]
    }
   ],
   "source": [
    "# q2 Test Sigmoid and Grad\n",
    "test_sigmoid_basic();\n",
    "test_sigmoid()\n"
   ]
  },
  {
   "cell_type": "code",
   "execution_count": 4,
   "metadata": {},
   "outputs": [
    {
     "name": "stdout",
     "output_type": "stream",
     "text": [
      "Running sanity checks...\n",
      "Gradient check passed!\n",
      "Gradient check passed!\n",
      "Gradient check passed!\n",
      "\n",
      "Running your sanity checks...\n",
      "Gradient check passed!\n",
      "Gradient check passed!\n",
      "Gradient check passed!\n"
     ]
    }
   ],
   "source": [
    "q2_gradcheck.sanity_check()\n",
    "q2_gradcheck.your_sanity_checks()"
   ]
  },
  {
   "cell_type": "code",
   "execution_count": 45,
   "metadata": {},
   "outputs": [
    {
     "name": "stdout",
     "output_type": "stream",
     "text": [
      "Running sanity check...\n",
      "Gradient check passed!\n"
     ]
    }
   ],
   "source": [
    "q2_neural.sanity_check()\n",
    "# q2_neural.your_sanity_checks()"
   ]
  },
  {
   "cell_type": "code",
   "execution_count": 49,
   "metadata": {},
   "outputs": [
    {
     "name": "stdout",
     "output_type": "stream",
     "text": [
      "Testing normalizeRows...\n",
      "norm =  [[5.        ]\n",
      " [2.23606798]]\n",
      "[[0.6        0.8       ]\n",
      " [0.4472136  0.89442719]]\n",
      "\n"
     ]
    }
   ],
   "source": [
    "# q3_word2vec.py\n",
    "test_normalize_rows()\n",
    "# test_word2vec()"
   ]
  },
  {
   "cell_type": "code",
   "execution_count": null,
   "metadata": {},
   "outputs": [],
   "source": []
  },
  {
   "cell_type": "code",
   "execution_count": null,
   "metadata": {},
   "outputs": [],
   "source": []
  }
 ],
 "metadata": {
  "kernelspec": {
   "display_name": "Python 3",
   "language": "python",
   "name": "python3"
  },
  "language_info": {
   "codemirror_mode": {
    "name": "ipython",
    "version": 3
   },
   "file_extension": ".py",
   "mimetype": "text/x-python",
   "name": "python",
   "nbconvert_exporter": "python",
   "pygments_lexer": "ipython3",
   "version": "3.6.5"
  }
 },
 "nbformat": 4,
 "nbformat_minor": 2
}
