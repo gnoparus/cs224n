{
 "cells": [
  {
   "cell_type": "code",
   "execution_count": 12,
   "metadata": {},
   "outputs": [
    {
     "name": "stdout",
     "output_type": "stream",
     "text": [
      "The autoreload extension is already loaded. To reload it, use:\n",
      "  %reload_ext autoreload\n"
     ]
    }
   ],
   "source": [
    "from q1_softmax import softmax, test_softmax_basic, test_softmax\n",
    "from q2_sigmoid import sigmoid, sigmoid_grad, test_sigmoid_basic, test_sigmoid\n",
    "# from q2_gradcheck import gradcheck_naive\n",
    "\n",
    "%load_ext autoreload\n",
    "%autoreload 2"
   ]
  },
  {
   "cell_type": "code",
   "execution_count": 13,
   "metadata": {},
   "outputs": [
    {
     "name": "stdout",
     "output_type": "stream",
     "text": [
      "Running basic tests...\n",
      "[0.26894142 0.73105858]\n",
      "[[0.26894142 0.73105858]\n",
      " [0.26894142 0.73105858]]\n",
      "[[0.73105858 0.26894142]]\n",
      "You should be able to verify these results by hand!\n",
      "\n",
      "Running your tests...\n",
      "[5.62554730e-04 1.52918230e-03 1.52918230e-03 1.12992138e-02\n",
      " 3.07144476e-02 8.34905247e-02 2.26950776e-01 6.16916170e-01\n",
      " 2.52772134e-04 1.12992138e-02 4.15674846e-03 1.12992138e-02]\n",
      "[[2.68941421e-01 7.31058579e-01]\n",
      " [5.64636292e-01 4.35363708e-01]\n",
      " [7.31058579e-01 2.68941421e-01]\n",
      " [4.71116580e-58 1.00000000e+00]\n",
      " [0.00000000e+00 1.00000000e+00]\n",
      " [7.58256042e-10 9.99999999e-01]\n",
      " [9.99999998e-01 2.06115362e-09]\n",
      " [4.53978687e-05 9.99954602e-01]]\n",
      "[[7.31058579e-01 2.68941421e-01 1.00048252e-44 3.68056951e-45]]\n"
     ]
    }
   ],
   "source": [
    "# Test Softmax\n",
    "test_softmax_basic()\n",
    "test_softmax()"
   ]
  },
  {
   "cell_type": "code",
   "execution_count": 17,
   "metadata": {},
   "outputs": [
    {
     "name": "stdout",
     "output_type": "stream",
     "text": [
      "Running basic tests...\n",
      "[[0.73105858 0.88079708]\n",
      " [0.26894142 0.11920292]]\n",
      "[[0.19661193 0.10499359]\n",
      " [0.19661193 0.10499359]]\n",
      "You should verify these results by hand!\n",
      "\n",
      "Running your tests...\n",
      "[[0.73105858 0.88079708]\n",
      " [0.26894142 0.11920292]\n",
      " [0.73105858 0.88079708]\n",
      " [0.26894142 0.11920292]]\n",
      "[[0.19661193 0.10499359]\n",
      " [0.19661193 0.10499359]\n",
      " [0.19661193 0.10499359]\n",
      " [0.19661193 0.10499359]]\n"
     ]
    }
   ],
   "source": [
    "# Test Sigmoid and Grad\n",
    "test_sigmoid_basic();\n",
    "test_sigmoid()\n"
   ]
  },
  {
   "cell_type": "code",
   "execution_count": null,
   "metadata": {},
   "outputs": [],
   "source": []
  },
  {
   "cell_type": "code",
   "execution_count": null,
   "metadata": {},
   "outputs": [],
   "source": []
  },
  {
   "cell_type": "code",
   "execution_count": null,
   "metadata": {},
   "outputs": [],
   "source": []
  },
  {
   "cell_type": "code",
   "execution_count": null,
   "metadata": {},
   "outputs": [],
   "source": []
  },
  {
   "cell_type": "code",
   "execution_count": null,
   "metadata": {},
   "outputs": [],
   "source": []
  }
 ],
 "metadata": {
  "kernelspec": {
   "display_name": "Python 3",
   "language": "python",
   "name": "python3"
  },
  "language_info": {
   "codemirror_mode": {
    "name": "ipython",
    "version": 3
   },
   "file_extension": ".py",
   "mimetype": "text/x-python",
   "name": "python",
   "nbconvert_exporter": "python",
   "pygments_lexer": "ipython3",
   "version": "3.6.5"
  }
 },
 "nbformat": 4,
 "nbformat_minor": 2
}
