{
 "cells": [
  {
   "cell_type": "code",
   "execution_count": 96,
   "metadata": {},
   "outputs": [],
   "source": [
    "from q1_softmax import softmax\n",
    "# from q2_sigmoid import sigmoid, sigmoid_grad\n",
    "# from q2_gradcheck import gradcheck_naive"
   ]
  },
  {
   "cell_type": "code",
   "execution_count": 97,
   "metadata": {},
   "outputs": [
    {
     "name": "stdout",
     "output_type": "stream",
     "text": [
      "Running basic tests...\n",
      "[0.26894142 0.73105858]\n",
      "[[0.26894142 0.73105858]\n",
      " [0.26894142 0.73105858]]\n",
      "[[0.73105858 0.26894142]]\n",
      "You should be able to verify these results by hand!\n",
      "\n",
      "Running your tests...\n",
      "[5.25626559e-07 1.42880112e-06 3.88388413e-06 1.05574917e-05\n",
      " 2.86982378e-05 7.80098982e-05 2.12052889e-04 5.76419514e-04\n",
      " 1.56687069e-03 4.25919613e-03 1.15776954e-02 3.14714391e-02\n",
      " 8.55482410e-02 2.32544229e-01 6.32120752e-01]\n",
      "[[0.26894142 0.73105858]\n",
      " [0.26894142 0.73105858]\n",
      " [0.26894142 0.73105858]\n",
      " [0.26894142 0.73105858]\n",
      " [0.26894142 0.73105858]\n",
      " [0.26894142 0.73105858]\n",
      " [0.26894142 0.73105858]\n",
      " [0.26894142 0.73105858]]\n"
     ]
    }
   ],
   "source": [
    "test_softmax_basic()\n",
    "test_softmax()"
   ]
  },
  {
   "cell_type": "code",
   "execution_count": null,
   "metadata": {},
   "outputs": [],
   "source": []
  },
  {
   "cell_type": "code",
   "execution_count": null,
   "metadata": {},
   "outputs": [],
   "source": []
  },
  {
   "cell_type": "code",
   "execution_count": null,
   "metadata": {},
   "outputs": [],
   "source": []
  },
  {
   "cell_type": "code",
   "execution_count": null,
   "metadata": {},
   "outputs": [],
   "source": []
  },
  {
   "cell_type": "code",
   "execution_count": null,
   "metadata": {},
   "outputs": [],
   "source": []
  },
  {
   "cell_type": "code",
   "execution_count": null,
   "metadata": {},
   "outputs": [],
   "source": []
  }
 ],
 "metadata": {
  "kernelspec": {
   "display_name": "Python 3",
   "language": "python",
   "name": "python3"
  },
  "language_info": {
   "codemirror_mode": {
    "name": "ipython",
    "version": 3
   },
   "file_extension": ".py",
   "mimetype": "text/x-python",
   "name": "python",
   "nbconvert_exporter": "python",
   "pygments_lexer": "ipython3",
   "version": "3.6.5"
  }
 },
 "nbformat": 4,
 "nbformat_minor": 2
}
